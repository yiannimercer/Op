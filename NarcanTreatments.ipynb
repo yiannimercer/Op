{
 "cells": [
  {
   "cell_type": "code",
   "execution_count": 108,
   "metadata": {},
   "outputs": [],
   "source": [
    "import pandas as pd\n",
    "import matplotlib.pyplot as plt\n",
    "import geopandas as gpd\n"
   ]
  },
  {
   "cell_type": "code",
   "execution_count": 109,
   "metadata": {},
   "outputs": [
    {
     "data": {
      "text/html": [
       "<div>\n",
       "<style scoped>\n",
       "    .dataframe tbody tr th:only-of-type {\n",
       "        vertical-align: middle;\n",
       "    }\n",
       "\n",
       "    .dataframe tbody tr th {\n",
       "        vertical-align: top;\n",
       "    }\n",
       "\n",
       "    .dataframe thead th {\n",
       "        text-align: right;\n",
       "    }\n",
       "</style>\n",
       "<table border=\"1\" class=\"dataframe\">\n",
       "  <thead>\n",
       "    <tr style=\"text-align: right;\">\n",
       "      <th></th>\n",
       "      <th>Pharmacy-Name</th>\n",
       "      <th>Phone</th>\n",
       "      <th>Credential</th>\n",
       "      <th>Location</th>\n",
       "      <th>Address</th>\n",
       "      <th>City</th>\n",
       "      <th>State</th>\n",
       "      <th>Zip</th>\n",
       "      <th>CredentialId</th>\n",
       "    </tr>\n",
       "  </thead>\n",
       "  <tbody>\n",
       "    <tr>\n",
       "      <th>0</th>\n",
       "      <td>STOP &amp; SHOP PHARMACY #621</td>\n",
       "      <td>(203) 262-4559</td>\n",
       "      <td>PCY.0002018</td>\n",
       "      <td>100 MAIN ST N\\nCT 06488-3839\\n(41.479314, -73....</td>\n",
       "      <td>100 MAIN ST N</td>\n",
       "      <td>SOUTHBURY</td>\n",
       "      <td>CT</td>\n",
       "      <td>06488-3839</td>\n",
       "      <td>416692</td>\n",
       "    </tr>\n",
       "    <tr>\n",
       "      <th>1</th>\n",
       "      <td>SEYBRIDGE PHARMACY INC</td>\n",
       "      <td>203-888-0073</td>\n",
       "      <td>PCY.0001292</td>\n",
       "      <td>37 NEW HAVEN RD\\nCT 06483-3460\\n(41.397075, -7...</td>\n",
       "      <td>37 NEW HAVEN RD</td>\n",
       "      <td>SEYMOUR</td>\n",
       "      <td>CT</td>\n",
       "      <td>06483-3460</td>\n",
       "      <td>38450</td>\n",
       "    </tr>\n",
       "    <tr>\n",
       "      <th>2</th>\n",
       "      <td>RITE AID  #10371</td>\n",
       "      <td>(203) 488-8703</td>\n",
       "      <td>PCY.0001449</td>\n",
       "      <td>280 BRANFORD RD\\nCT 06471-9995\\n(41.32508, -72...</td>\n",
       "      <td>280 BRANFORD RD</td>\n",
       "      <td>NORTH BRANFORD</td>\n",
       "      <td>CT</td>\n",
       "      <td>06471-9995</td>\n",
       "      <td>38899</td>\n",
       "    </tr>\n",
       "    <tr>\n",
       "      <th>3</th>\n",
       "      <td>CVS PHARMACY #798</td>\n",
       "      <td>(203) 790-9485</td>\n",
       "      <td>PCY.0001261</td>\n",
       "      <td>299 WHITE ST\\nCT 06810-6934\\n(41.399293, -73.4...</td>\n",
       "      <td>299 WHITE ST # 305</td>\n",
       "      <td>DANBURY</td>\n",
       "      <td>CT</td>\n",
       "      <td>06810-6934</td>\n",
       "      <td>38436</td>\n",
       "    </tr>\n",
       "    <tr>\n",
       "      <th>4</th>\n",
       "      <td>WALGREENS #10483</td>\n",
       "      <td>(860) 440-3566</td>\n",
       "      <td>PCY.0001728</td>\n",
       "      <td>698 BANK ST\\nCT 06320-5040\\n(41.349444, -72.10...</td>\n",
       "      <td>698 BANK ST</td>\n",
       "      <td>NEW LONDON</td>\n",
       "      <td>CT</td>\n",
       "      <td>06320-5040</td>\n",
       "      <td>222256</td>\n",
       "    </tr>\n",
       "  </tbody>\n",
       "</table>\n",
       "</div>"
      ],
      "text/plain": [
       "               Pharmacy-Name           Phone   Credential  \\\n",
       "0  STOP & SHOP PHARMACY #621  (203) 262-4559  PCY.0002018   \n",
       "1     SEYBRIDGE PHARMACY INC    203-888-0073  PCY.0001292   \n",
       "2           RITE AID  #10371  (203) 488-8703  PCY.0001449   \n",
       "3          CVS PHARMACY #798  (203) 790-9485  PCY.0001261   \n",
       "4           WALGREENS #10483  (860) 440-3566  PCY.0001728   \n",
       "\n",
       "                                            Location             Address  \\\n",
       "0  100 MAIN ST N\\nCT 06488-3839\\n(41.479314, -73....       100 MAIN ST N   \n",
       "1  37 NEW HAVEN RD\\nCT 06483-3460\\n(41.397075, -7...     37 NEW HAVEN RD   \n",
       "2  280 BRANFORD RD\\nCT 06471-9995\\n(41.32508, -72...     280 BRANFORD RD   \n",
       "3  299 WHITE ST\\nCT 06810-6934\\n(41.399293, -73.4...  299 WHITE ST # 305   \n",
       "4  698 BANK ST\\nCT 06320-5040\\n(41.349444, -72.10...         698 BANK ST   \n",
       "\n",
       "             City State         Zip  CredentialId  \n",
       "0       SOUTHBURY    CT  06488-3839        416692  \n",
       "1         SEYMOUR    CT  06483-3460         38450  \n",
       "2  NORTH BRANFORD    CT  06471-9995         38899  \n",
       "3         DANBURY    CT  06810-6934         38436  \n",
       "4      NEW LONDON    CT  06320-5040        222256  "
      ]
     },
     "execution_count": 109,
     "metadata": {},
     "output_type": "execute_result"
    }
   ],
   "source": [
    "df_narcan = pd.read_csv('data/Pharmacies_offering_Narcan__Evzio_and_other_brands_of_Naloxone.csv')\n",
    "df_narcan.head()"
   ]
  },
  {
   "cell_type": "code",
   "execution_count": 110,
   "metadata": {},
   "outputs": [
    {
     "name": "stdout",
     "output_type": "stream",
     "text": [
      "['CT']\n",
      "133\n",
      "NEW HAVEN    25\n",
      "HARTFORD     20\n",
      "WATERBURY    20\n",
      "NORWALK      17\n",
      "STAMFORD     16\n",
      "             ..\n",
      "OXFORD        1\n",
      "SUFFIELD      1\n",
      "SHARON        1\n",
      "SALEM         1\n",
      "MOODUS        1\n",
      "Name: City, Length: 133, dtype: int64\n"
     ]
    }
   ],
   "source": [
    "# Only Connecticut\n",
    "\n",
    "print(df_narcan['State'].unique())\n",
    "\n",
    "print(df_narcan['City'].nunique())\n",
    "\n",
    "print(df_narcan['City'].value_counts())"
   ]
  },
  {
   "cell_type": "code",
   "execution_count": null,
   "metadata": {},
   "outputs": [],
   "source": []
  },
  {
   "cell_type": "code",
   "execution_count": 111,
   "metadata": {},
   "outputs": [
    {
     "data": {
      "text/html": [
       "<div>\n",
       "<style scoped>\n",
       "    .dataframe tbody tr th:only-of-type {\n",
       "        vertical-align: middle;\n",
       "    }\n",
       "\n",
       "    .dataframe tbody tr th {\n",
       "        vertical-align: top;\n",
       "    }\n",
       "\n",
       "    .dataframe thead th {\n",
       "        text-align: right;\n",
       "    }\n",
       "</style>\n",
       "<table border=\"1\" class=\"dataframe\">\n",
       "  <thead>\n",
       "    <tr style=\"text-align: right;\">\n",
       "      <th></th>\n",
       "      <th>FiscalYear</th>\n",
       "      <th>Town</th>\n",
       "      <th>Admissions</th>\n",
       "      <th>Unduplicated Clients</th>\n",
       "      <th>TownGeo</th>\n",
       "    </tr>\n",
       "  </thead>\n",
       "  <tbody>\n",
       "    <tr>\n",
       "      <th>0</th>\n",
       "      <td>2012</td>\n",
       "      <td>Andover</td>\n",
       "      <td>NaN</td>\n",
       "      <td>NaN</td>\n",
       "      <td>Andover, CT\\n(41.728789, -72.370309)</td>\n",
       "    </tr>\n",
       "    <tr>\n",
       "      <th>1</th>\n",
       "      <td>2014</td>\n",
       "      <td>Woodbridge</td>\n",
       "      <td>17.0</td>\n",
       "      <td>16.0</td>\n",
       "      <td>Woodbridge, CT\\n(41.352933, -73.014356)</td>\n",
       "    </tr>\n",
       "    <tr>\n",
       "      <th>2</th>\n",
       "      <td>2014</td>\n",
       "      <td>Bozrah</td>\n",
       "      <td>13.0</td>\n",
       "      <td>11.0</td>\n",
       "      <td>Bozrah, CT\\n(41.544947, -72.175639)</td>\n",
       "    </tr>\n",
       "    <tr>\n",
       "      <th>3</th>\n",
       "      <td>2014</td>\n",
       "      <td>Harwinton</td>\n",
       "      <td>28.0</td>\n",
       "      <td>13.0</td>\n",
       "      <td>Harwinton, CT\\n(41.771487, -73.059941)</td>\n",
       "    </tr>\n",
       "    <tr>\n",
       "      <th>4</th>\n",
       "      <td>2015</td>\n",
       "      <td>Oxford</td>\n",
       "      <td>62.0</td>\n",
       "      <td>36.0</td>\n",
       "      <td>Oxford, CT\\n(41.434813, -73.117134)</td>\n",
       "    </tr>\n",
       "  </tbody>\n",
       "</table>\n",
       "</div>"
      ],
      "text/plain": [
       "   FiscalYear        Town  Admissions  Unduplicated Clients  \\\n",
       "0        2012     Andover         NaN                   NaN   \n",
       "1        2014  Woodbridge        17.0                  16.0   \n",
       "2        2014      Bozrah        13.0                  11.0   \n",
       "3        2014   Harwinton        28.0                  13.0   \n",
       "4        2015      Oxford        62.0                  36.0   \n",
       "\n",
       "                                   TownGeo  \n",
       "0     Andover, CT\\n(41.728789, -72.370309)  \n",
       "1  Woodbridge, CT\\n(41.352933, -73.014356)  \n",
       "2      Bozrah, CT\\n(41.544947, -72.175639)  \n",
       "3   Harwinton, CT\\n(41.771487, -73.059941)  \n",
       "4      Oxford, CT\\n(41.434813, -73.117134)  "
      ]
     },
     "execution_count": 111,
     "metadata": {},
     "output_type": "execute_result"
    }
   ],
   "source": [
    "df_treatment = pd.read_csv('data/Opioid_Related_Treatment_Admissions_by_Town_in_Department_of_Mental_Health_and_Addiction_Services_Programs.csv')\n",
    "df_treatment.head()"
   ]
  },
  {
   "cell_type": "code",
   "execution_count": 112,
   "metadata": {},
   "outputs": [
    {
     "data": {
      "text/plain": [
       "Index(['FiscalYear', 'Town', 'Admissions', 'Unduplicated Clients', 'TownGeo'], dtype='object')"
      ]
     },
     "execution_count": 112,
     "metadata": {},
     "output_type": "execute_result"
    }
   ],
   "source": [
    "df_treatment.columns"
   ]
  },
  {
   "cell_type": "code",
   "execution_count": 113,
   "metadata": {},
   "outputs": [
    {
     "name": "stdout",
     "output_type": "stream",
     "text": [
      "West Haven      5\n",
      "Wolcott         5\n",
      "New Milford     5\n",
      "Bethany         5\n",
      "Old Saybrook    5\n",
      "               ..\n",
      "New Canaan      5\n",
      "Brookfield      5\n",
      "Hartland        5\n",
      "Haddam          5\n",
      "Guilford        5\n",
      "Name: Town, Length: 170, dtype: int64\n"
     ]
    }
   ],
   "source": [
    "print(df_treatment['Town'].value_counts())\n"
   ]
  },
  {
   "cell_type": "code",
   "execution_count": 114,
   "metadata": {},
   "outputs": [
    {
     "name": "stdout",
     "output_type": "stream",
     "text": [
      "5\n"
     ]
    }
   ],
   "source": [
    "print(df_treatment['FiscalYear'].nunique())\n"
   ]
  },
  {
   "cell_type": "code",
   "execution_count": 115,
   "metadata": {},
   "outputs": [
    {
     "data": {
      "text/plain": [
       "count     789.000000\n",
       "mean       95.897338\n",
       "std       185.589788\n",
       "min         0.000000\n",
       "25%        16.000000\n",
       "50%        35.000000\n",
       "75%        84.000000\n",
       "max      1394.000000\n",
       "Name: Unduplicated Clients, dtype: float64"
      ]
     },
     "execution_count": 115,
     "metadata": {},
     "output_type": "execute_result"
    }
   ],
   "source": [
    "df_treatment['Unduplicated Clients'].describe()"
   ]
  },
  {
   "cell_type": "code",
   "execution_count": null,
   "metadata": {},
   "outputs": [],
   "source": [
    "\n",
    "\n"
   ]
  }
 ],
 "metadata": {
  "kernelspec": {
   "display_name": "Python 3",
   "language": "python",
   "name": "python3"
  },
  "language_info": {
   "codemirror_mode": {
    "name": "ipython",
    "version": 3
   },
   "file_extension": ".py",
   "mimetype": "text/x-python",
   "name": "python",
   "nbconvert_exporter": "python",
   "pygments_lexer": "ipython3",
   "version": "3.8.5"
  }
 },
 "nbformat": 4,
 "nbformat_minor": 5
}
